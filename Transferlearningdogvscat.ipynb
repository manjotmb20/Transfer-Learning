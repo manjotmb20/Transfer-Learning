{
  "nbformat": 4,
  "nbformat_minor": 0,
  "metadata": {
    "colab": {
      "name": "Untitled35.ipynb",
      "version": "0.3.2",
      "provenance": [],
      "collapsed_sections": [],
      "include_colab_link": true
    },
    "kernelspec": {
      "name": "python3",
      "display_name": "Python 3"
    },
    "accelerator": "GPU"
  },
  "cells": [
    {
      "cell_type": "markdown",
      "metadata": {
        "id": "view-in-github",
        "colab_type": "text"
      },
      "source": [
        "<a href=\"https://colab.research.google.com/github/manjotmb20/Transfer-Learning/blob/master/Transferlearningdogvscat.ipynb\" target=\"_parent\"><img src=\"https://colab.research.google.com/assets/colab-badge.svg\" alt=\"Open In Colab\"/></a>"
      ]
    },
    {
      "cell_type": "code",
      "metadata": {
        "id": "5oTe4DHPCm4D",
        "colab_type": "code",
        "outputId": "99310946-91bb-4b54-926f-5053c934c31e",
        "colab": {
          "base_uri": "https://localhost:8080/",
          "height": 34
        }
      },
      "source": [
        "import keras\n",
        "from keras.applications import VGG16"
      ],
      "execution_count": 0,
      "outputs": [
        {
          "output_type": "stream",
          "text": [
            "Using TensorFlow backend.\n"
          ],
          "name": "stderr"
        }
      ]
    },
    {
      "cell_type": "code",
      "metadata": {
        "id": "JpDQNyvSCzOC",
        "colab_type": "code",
        "outputId": "15125920-40b0-484c-f576-0252e09bd4b9",
        "colab": {
          "base_uri": "https://localhost:8080/",
          "height": 122
        }
      },
      "source": [
        "conv_base=VGG16(weights='imagenet',include_top=False,input_shape=(80,80,3))"
      ],
      "execution_count": 0,
      "outputs": [
        {
          "output_type": "stream",
          "text": [
            "WARNING:tensorflow:From /usr/local/lib/python3.6/dist-packages/tensorflow/python/framework/op_def_library.py:263: colocate_with (from tensorflow.python.framework.ops) is deprecated and will be removed in a future version.\n",
            "Instructions for updating:\n",
            "Colocations handled automatically by placer.\n",
            "Downloading data from https://github.com/fchollet/deep-learning-models/releases/download/v0.1/vgg16_weights_tf_dim_ordering_tf_kernels_notop.h5\n",
            "58892288/58889256 [==============================] - 6s 0us/step\n"
          ],
          "name": "stdout"
        }
      ]
    },
    {
      "cell_type": "code",
      "metadata": {
        "id": "tpHigUkIDB4g",
        "colab_type": "code",
        "outputId": "02497c46-1cec-49e7-98f1-b674d1f1bb2f",
        "colab": {
          "base_uri": "https://localhost:8080/",
          "height": 782
        }
      },
      "source": [
        "conv_base.summary()"
      ],
      "execution_count": 0,
      "outputs": [
        {
          "output_type": "stream",
          "text": [
            "_________________________________________________________________\n",
            "Layer (type)                 Output Shape              Param #   \n",
            "=================================================================\n",
            "input_1 (InputLayer)         (None, 80, 80, 3)         0         \n",
            "_________________________________________________________________\n",
            "block1_conv1 (Conv2D)        (None, 80, 80, 64)        1792      \n",
            "_________________________________________________________________\n",
            "block1_conv2 (Conv2D)        (None, 80, 80, 64)        36928     \n",
            "_________________________________________________________________\n",
            "block1_pool (MaxPooling2D)   (None, 40, 40, 64)        0         \n",
            "_________________________________________________________________\n",
            "block2_conv1 (Conv2D)        (None, 40, 40, 128)       73856     \n",
            "_________________________________________________________________\n",
            "block2_conv2 (Conv2D)        (None, 40, 40, 128)       147584    \n",
            "_________________________________________________________________\n",
            "block2_pool (MaxPooling2D)   (None, 20, 20, 128)       0         \n",
            "_________________________________________________________________\n",
            "block3_conv1 (Conv2D)        (None, 20, 20, 256)       295168    \n",
            "_________________________________________________________________\n",
            "block3_conv2 (Conv2D)        (None, 20, 20, 256)       590080    \n",
            "_________________________________________________________________\n",
            "block3_conv3 (Conv2D)        (None, 20, 20, 256)       590080    \n",
            "_________________________________________________________________\n",
            "block3_pool (MaxPooling2D)   (None, 10, 10, 256)       0         \n",
            "_________________________________________________________________\n",
            "block4_conv1 (Conv2D)        (None, 10, 10, 512)       1180160   \n",
            "_________________________________________________________________\n",
            "block4_conv2 (Conv2D)        (None, 10, 10, 512)       2359808   \n",
            "_________________________________________________________________\n",
            "block4_conv3 (Conv2D)        (None, 10, 10, 512)       2359808   \n",
            "_________________________________________________________________\n",
            "block4_pool (MaxPooling2D)   (None, 5, 5, 512)         0         \n",
            "_________________________________________________________________\n",
            "block5_conv1 (Conv2D)        (None, 5, 5, 512)         2359808   \n",
            "_________________________________________________________________\n",
            "block5_conv2 (Conv2D)        (None, 5, 5, 512)         2359808   \n",
            "_________________________________________________________________\n",
            "block5_conv3 (Conv2D)        (None, 5, 5, 512)         2359808   \n",
            "_________________________________________________________________\n",
            "block5_pool (MaxPooling2D)   (None, 2, 2, 512)         0         \n",
            "=================================================================\n",
            "Total params: 14,714,688\n",
            "Trainable params: 14,714,688\n",
            "Non-trainable params: 0\n",
            "_________________________________________________________________\n"
          ],
          "name": "stdout"
        }
      ]
    },
    {
      "cell_type": "code",
      "metadata": {
        "id": "ONmmUzuBEMSh",
        "colab_type": "code",
        "outputId": "1a925ad7-9d19-46b6-9022-02df6ccaaa1c",
        "colab": {
          "base_uri": "https://localhost:8080/",
          "height": 224
        }
      },
      "source": [
        "pip install kaggle"
      ],
      "execution_count": 0,
      "outputs": [
        {
          "output_type": "stream",
          "text": [
            "Requirement already satisfied: kaggle in /usr/local/lib/python3.6/dist-packages (1.5.4)\n",
            "Requirement already satisfied: urllib3<1.25,>=1.21.1 in /usr/local/lib/python3.6/dist-packages (from kaggle) (1.24.3)\n",
            "Requirement already satisfied: tqdm in /usr/local/lib/python3.6/dist-packages (from kaggle) (4.28.1)\n",
            "Requirement already satisfied: requests in /usr/local/lib/python3.6/dist-packages (from kaggle) (2.21.0)\n",
            "Requirement already satisfied: python-slugify in /usr/local/lib/python3.6/dist-packages (from kaggle) (3.0.2)\n",
            "Requirement already satisfied: python-dateutil in /usr/local/lib/python3.6/dist-packages (from kaggle) (2.5.3)\n",
            "Requirement already satisfied: six>=1.10 in /usr/local/lib/python3.6/dist-packages (from kaggle) (1.12.0)\n",
            "Requirement already satisfied: certifi in /usr/local/lib/python3.6/dist-packages (from kaggle) (2019.3.9)\n",
            "Requirement already satisfied: idna<2.9,>=2.5 in /usr/local/lib/python3.6/dist-packages (from requests->kaggle) (2.8)\n",
            "Requirement already satisfied: chardet<3.1.0,>=3.0.2 in /usr/local/lib/python3.6/dist-packages (from requests->kaggle) (3.0.4)\n",
            "Requirement already satisfied: text-unidecode==1.2 in /usr/local/lib/python3.6/dist-packages (from python-slugify->kaggle) (1.2)\n"
          ],
          "name": "stdout"
        }
      ]
    },
    {
      "cell_type": "code",
      "metadata": {
        "id": "w8-h2X9VH33E",
        "colab_type": "code",
        "outputId": "39dd8d48-f127-4b8b-d759-0a46a6d1b7c9",
        "colab": {
          "resources": {
            "http://localhost:8080/nbextensions/google.colab/files.js": {
              "data": "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",
              "ok": true,
              "headers": [
                [
                  "content-type",
                  "application/javascript"
                ]
              ],
              "status": 200,
              "status_text": ""
            }
          },
          "base_uri": "https://localhost:8080/",
          "height": 346
        }
      },
      "source": [
        "from google.colab import files\n",
        "files.upload()"
      ],
      "execution_count": 0,
      "outputs": [
        {
          "output_type": "display_data",
          "data": {
            "text/html": [
              "\n",
              "     <input type=\"file\" id=\"files-956f1979-6c69-42a0-b58c-e7f9cffe13bf\" name=\"files[]\" multiple disabled />\n",
              "     <output id=\"result-956f1979-6c69-42a0-b58c-e7f9cffe13bf\">\n",
              "      Upload widget is only available when the cell has been executed in the\n",
              "      current browser session. Please rerun this cell to enable.\n",
              "      </output>\n",
              "      <script src=\"/nbextensions/google.colab/files.js\"></script> "
            ],
            "text/plain": [
              "<IPython.core.display.HTML object>"
            ]
          },
          "metadata": {
            "tags": []
          }
        },
        {
          "output_type": "error",
          "ename": "KeyboardInterrupt",
          "evalue": "ignored",
          "traceback": [
            "\u001b[0;31m---------------------------------------------------------------------------\u001b[0m",
            "\u001b[0;31mKeyboardInterrupt\u001b[0m                         Traceback (most recent call last)",
            "\u001b[0;32m<ipython-input-5-5c2e8a8d365b>\u001b[0m in \u001b[0;36m<module>\u001b[0;34m()\u001b[0m\n\u001b[1;32m      1\u001b[0m \u001b[0;32mfrom\u001b[0m \u001b[0mgoogle\u001b[0m\u001b[0;34m.\u001b[0m\u001b[0mcolab\u001b[0m \u001b[0;32mimport\u001b[0m \u001b[0mfiles\u001b[0m\u001b[0;34m\u001b[0m\u001b[0;34m\u001b[0m\u001b[0m\n\u001b[0;32m----> 2\u001b[0;31m \u001b[0mfiles\u001b[0m\u001b[0;34m.\u001b[0m\u001b[0mupload\u001b[0m\u001b[0;34m(\u001b[0m\u001b[0;34m)\u001b[0m\u001b[0;34m\u001b[0m\u001b[0;34m\u001b[0m\u001b[0m\n\u001b[0m",
            "\u001b[0;32m/usr/local/lib/python3.6/dist-packages/google/colab/files.py\u001b[0m in \u001b[0;36mupload\u001b[0;34m()\u001b[0m\n\u001b[1;32m     62\u001b[0m   result = _output.eval_js(\n\u001b[1;32m     63\u001b[0m       'google.colab._files._uploadFiles(\"{input_id}\", \"{output_id}\")'.format(\n\u001b[0;32m---> 64\u001b[0;31m           input_id=input_id, output_id=output_id))\n\u001b[0m\u001b[1;32m     65\u001b[0m   \u001b[0mfiles\u001b[0m \u001b[0;34m=\u001b[0m \u001b[0m_collections\u001b[0m\u001b[0;34m.\u001b[0m\u001b[0mdefaultdict\u001b[0m\u001b[0;34m(\u001b[0m\u001b[0m_six\u001b[0m\u001b[0;34m.\u001b[0m\u001b[0mbinary_type\u001b[0m\u001b[0;34m)\u001b[0m\u001b[0;34m\u001b[0m\u001b[0;34m\u001b[0m\u001b[0m\n\u001b[1;32m     66\u001b[0m   \u001b[0;31m# Mapping from original filename to filename as saved locally.\u001b[0m\u001b[0;34m\u001b[0m\u001b[0;34m\u001b[0m\u001b[0;34m\u001b[0m\u001b[0m\n",
            "\u001b[0;32m/usr/local/lib/python3.6/dist-packages/google/colab/output/_js.py\u001b[0m in \u001b[0;36meval_js\u001b[0;34m(script, ignore_result)\u001b[0m\n\u001b[1;32m     37\u001b[0m   \u001b[0;32mif\u001b[0m \u001b[0mignore_result\u001b[0m\u001b[0;34m:\u001b[0m\u001b[0;34m\u001b[0m\u001b[0;34m\u001b[0m\u001b[0m\n\u001b[1;32m     38\u001b[0m     \u001b[0;32mreturn\u001b[0m\u001b[0;34m\u001b[0m\u001b[0;34m\u001b[0m\u001b[0m\n\u001b[0;32m---> 39\u001b[0;31m   \u001b[0;32mreturn\u001b[0m \u001b[0m_message\u001b[0m\u001b[0;34m.\u001b[0m\u001b[0mread_reply_from_input\u001b[0m\u001b[0;34m(\u001b[0m\u001b[0mrequest_id\u001b[0m\u001b[0;34m)\u001b[0m\u001b[0;34m\u001b[0m\u001b[0;34m\u001b[0m\u001b[0m\n\u001b[0m\u001b[1;32m     40\u001b[0m \u001b[0;34m\u001b[0m\u001b[0m\n\u001b[1;32m     41\u001b[0m \u001b[0;34m\u001b[0m\u001b[0m\n",
            "\u001b[0;32m/usr/local/lib/python3.6/dist-packages/google/colab/_message.py\u001b[0m in \u001b[0;36mread_reply_from_input\u001b[0;34m(message_id, timeout_sec)\u001b[0m\n\u001b[1;32m     99\u001b[0m     \u001b[0mreply\u001b[0m \u001b[0;34m=\u001b[0m \u001b[0m_read_next_input_message\u001b[0m\u001b[0;34m(\u001b[0m\u001b[0;34m)\u001b[0m\u001b[0;34m\u001b[0m\u001b[0;34m\u001b[0m\u001b[0m\n\u001b[1;32m    100\u001b[0m     \u001b[0;32mif\u001b[0m \u001b[0mreply\u001b[0m \u001b[0;34m==\u001b[0m \u001b[0m_NOT_READY\u001b[0m \u001b[0;32mor\u001b[0m \u001b[0;32mnot\u001b[0m \u001b[0misinstance\u001b[0m\u001b[0;34m(\u001b[0m\u001b[0mreply\u001b[0m\u001b[0;34m,\u001b[0m \u001b[0mdict\u001b[0m\u001b[0;34m)\u001b[0m\u001b[0;34m:\u001b[0m\u001b[0;34m\u001b[0m\u001b[0;34m\u001b[0m\u001b[0m\n\u001b[0;32m--> 101\u001b[0;31m       \u001b[0mtime\u001b[0m\u001b[0;34m.\u001b[0m\u001b[0msleep\u001b[0m\u001b[0;34m(\u001b[0m\u001b[0;36m0.025\u001b[0m\u001b[0;34m)\u001b[0m\u001b[0;34m\u001b[0m\u001b[0;34m\u001b[0m\u001b[0m\n\u001b[0m\u001b[1;32m    102\u001b[0m       \u001b[0;32mcontinue\u001b[0m\u001b[0;34m\u001b[0m\u001b[0;34m\u001b[0m\u001b[0m\n\u001b[1;32m    103\u001b[0m     if (reply.get('type') == 'colab_reply' and\n",
            "\u001b[0;31mKeyboardInterrupt\u001b[0m: "
          ]
        }
      ]
    },
    {
      "cell_type": "code",
      "metadata": {
        "id": "DuLPQ92EH-Lr",
        "colab_type": "code",
        "colab": {}
      },
      "source": [
        "!mkdir -p ~/.kaggle\n",
        "!cp kaggle.json ~/.kaggle/\n",
        "\n",
        "!chmod 600 ~/.kaggle/kaggle.json"
      ],
      "execution_count": 0,
      "outputs": []
    },
    {
      "cell_type": "code",
      "metadata": {
        "id": "SNCQj8FOJRAP",
        "colab_type": "code",
        "outputId": "00da1583-177f-4f5b-a5f7-0b88bf4a3467",
        "colab": {
          "base_uri": "https://localhost:8080/",
          "height": 170
        }
      },
      "source": [
        "!kaggle competitions download -c dogs-vs-cats-redux-kernels-edition"
      ],
      "execution_count": 0,
      "outputs": [
        {
          "output_type": "stream",
          "text": [
            "Downloading test.zip to /content\n",
            " 95% 257M/271M [00:03<00:00, 60.6MB/s]\n",
            "100% 271M/271M [00:03<00:00, 85.4MB/s]\n",
            "Downloading train.zip to /content\n",
            " 99% 539M/544M [00:07<00:00, 94.7MB/s]\n",
            "100% 544M/544M [00:07<00:00, 80.4MB/s]\n",
            "Downloading sample_submission.csv to /content\n",
            "  0% 0.00/111k [00:00<?, ?B/s]\n",
            "100% 111k/111k [00:00<00:00, 52.6MB/s]\n"
          ],
          "name": "stdout"
        }
      ]
    },
    {
      "cell_type": "code",
      "metadata": {
        "id": "kIyvnnNuJXbP",
        "colab_type": "code",
        "colab": {}
      },
      "source": [
        "import zipfile\n",
        "import os"
      ],
      "execution_count": 0,
      "outputs": []
    },
    {
      "cell_type": "code",
      "metadata": {
        "id": "PIktTlXAJf2P",
        "colab_type": "code",
        "outputId": "8908ff69-27bc-4148-80d9-ff83cd117838",
        "colab": {
          "base_uri": "https://localhost:8080/",
          "height": 119
        }
      },
      "source": [
        "os.listdir()"
      ],
      "execution_count": 0,
      "outputs": [
        {
          "output_type": "execute_result",
          "data": {
            "text/plain": [
              "['.config',\n",
              " 'test.zip',\n",
              " 'kaggle.json',\n",
              " 'train.zip',\n",
              " 'sample_submission.csv',\n",
              " 'sample_data']"
            ]
          },
          "metadata": {
            "tags": []
          },
          "execution_count": 9
        }
      ]
    },
    {
      "cell_type": "code",
      "metadata": {
        "id": "A7Sro2NjJjXw",
        "colab_type": "code",
        "colab": {}
      },
      "source": [
        "zip_ref=zipfile.ZipFile('test.zip','r')\n",
        "zip_ref.extractall()\n",
        "zip_ref.close()"
      ],
      "execution_count": 0,
      "outputs": []
    },
    {
      "cell_type": "code",
      "metadata": {
        "id": "FPlMzNEOJmc-",
        "colab_type": "code",
        "colab": {}
      },
      "source": [
        "zip_ref=zipfile.ZipFile('train.zip','r')\n",
        "zip_ref.extractall()\n",
        "zip_ref.close()"
      ],
      "execution_count": 0,
      "outputs": []
    },
    {
      "cell_type": "code",
      "metadata": {
        "id": "_qHK-LdiJp33",
        "colab_type": "code",
        "colab": {}
      },
      "source": [
        "path=\"../content\""
      ],
      "execution_count": 0,
      "outputs": []
    },
    {
      "cell_type": "code",
      "metadata": {
        "id": "-My3UQWYKeqN",
        "colab_type": "code",
        "colab": {}
      },
      "source": [
        "import os\n",
        "import numpy as np\n",
        "from keras.preprocessing.image import ImageDataGenerator"
      ],
      "execution_count": 0,
      "outputs": []
    },
    {
      "cell_type": "code",
      "metadata": {
        "id": "y4ZkWG-PJ8Vo",
        "colab_type": "code",
        "colab": {}
      },
      "source": [
        "datagen=ImageDataGenerator(rescale=1./255)\n",
        "batch_size=20"
      ],
      "execution_count": 0,
      "outputs": []
    },
    {
      "cell_type": "code",
      "metadata": {
        "id": "mFHRHdDvecYj",
        "colab_type": "code",
        "colab": {}
      },
      "source": [
        "path=\"../content/train\"\n",
        "X = []\n",
        "y = []\n",
        "convert = lambda category : int(category == 'dog')\n",
        "def create_test_data(path):\n",
        "    for p in os.listdir(path):\n",
        "        category = p.split(\".\")[0]\n",
        "        category = convert(category)\n",
        "        img_array = cv2.imread(os.path.join(path,p))\n",
        "        new_img_array = cv2.resize(img_array, dsize=(80,80))\n",
        "        X.append(new_img_array)\n",
        "        y.append(category)"
      ],
      "execution_count": 0,
      "outputs": []
    },
    {
      "cell_type": "code",
      "metadata": {
        "id": "rZ2_fuWPeqnt",
        "colab_type": "code",
        "colab": {}
      },
      "source": [
        "import cv2\n",
        "create_test_data(path)\n",
        "X = np.array(X).reshape(-1, 80,80,3)\n",
        "y = np.array(y)"
      ],
      "execution_count": 0,
      "outputs": []
    },
    {
      "cell_type": "code",
      "metadata": {
        "id": "ZEA_wGr4fMb4",
        "colab_type": "code",
        "colab": {}
      },
      "source": [
        "from sklearn.model_selection import train_test_split\n",
        "X_train, X_val, Y_train, Y_val = train_test_split(X,y, test_size=0.2, random_state=1)"
      ],
      "execution_count": 0,
      "outputs": []
    },
    {
      "cell_type": "code",
      "metadata": {
        "id": "UWP6M2JbfUiJ",
        "colab_type": "code",
        "colab": {}
      },
      "source": [
        "testpath=\"../content/test\"\n",
        "X_test=[]\n",
        "id_line=[]\n",
        "def create_test_data(path):\n",
        "  for p in os.listdir(path):\n",
        "    id_line.append(p.split(\".\")[0])\n",
        "    img_array=cv2.imread(os.path.join(path,p))\n",
        "    new_img_array=cv2.resize(img_array,dsize=(80,80))\n",
        "    X_test.append(new_img_array)\n",
        "create_test_data(testpath)\n",
        "X_test=np.array(X_test).reshape(-1,80,80,3)"
      ],
      "execution_count": 0,
      "outputs": []
    },
    {
      "cell_type": "code",
      "metadata": {
        "id": "zQ_9Y2N3dXMN",
        "colab_type": "code",
        "colab": {}
      },
      "source": [
        "train_dir=\"../content/train\"\n",
        "validation_dir=\"../content/test\"\n",
        "test_dir=\"../content/test\""
      ],
      "execution_count": 0,
      "outputs": []
    },
    {
      "cell_type": "code",
      "metadata": {
        "id": "U8_BRDcHKbkX",
        "colab_type": "code",
        "colab": {}
      },
      "source": [
        "def extract_features(directory,Y,sample_count):\n",
        "  features=np.zeros(shape=(sample_count,2,2,512))\n",
        "  labels=np.zeros(shape=(sample_count))\n",
        "  generator=datagen.flow(np.array(directory),Y,batch_size=batch_size)\n",
        "  i=0\n",
        "  for inputs_batch,labels_batch in generator:\n",
        "    features_batch=conv_base.predict(inputs_batch)\n",
        "    features[i*batch_size:(i+1)*batch_size]=features_batch\n",
        "    labels[i*batch_size:(i+1)*batch_size]=labels_batch\n",
        "    i+=1\n",
        "    if i*batch_size>=sample_count:\n",
        "      break\n",
        "  return features,labels\n",
        "train_features, train_labels = extract_features(X_train,Y_train,20000)\n",
        "validation_features, validation_labels = extract_features(X_val,Y_val, 5000)\n",
        "\n",
        "    "
      ],
      "execution_count": 0,
      "outputs": []
    },
    {
      "cell_type": "code",
      "metadata": {
        "id": "K-nhe3nYlsfS",
        "colab_type": "code",
        "colab": {}
      },
      "source": [
        "train_features = np.reshape(train_features, (20000, 2 * 2 * 512))\n",
        "validation_features = np.reshape(validation_features, (5000, 2 * 2 * 512))"
      ],
      "execution_count": 0,
      "outputs": []
    },
    {
      "cell_type": "code",
      "metadata": {
        "id": "O2BXAK2imPVR",
        "colab_type": "code",
        "outputId": "8d7c1b3b-a4c4-4f10-9073-310d6425a964",
        "colab": {
          "base_uri": "https://localhost:8080/",
          "height": 34
        }
      },
      "source": [
        "train_features.shape"
      ],
      "execution_count": 0,
      "outputs": [
        {
          "output_type": "execute_result",
          "data": {
            "text/plain": [
              "(20000, 2048)"
            ]
          },
          "metadata": {
            "tags": []
          },
          "execution_count": 22
        }
      ]
    },
    {
      "cell_type": "code",
      "metadata": {
        "id": "36hGR6gvnJA3",
        "colab_type": "code",
        "colab": {}
      },
      "source": [
        "from keras.models import Sequential\n",
        "from keras.layers import Dense,Flatten,Dropout,Activation\n",
        "from keras import optimizers"
      ],
      "execution_count": 0,
      "outputs": []
    },
    {
      "cell_type": "code",
      "metadata": {
        "id": "gnujxNltvwBs",
        "colab_type": "code",
        "outputId": "066f3f20-1def-4b5a-8452-765c09d02baf",
        "colab": {
          "base_uri": "https://localhost:8080/",
          "height": 1394
        }
      },
      "source": [
        "model=Sequential()\n",
        "model.add(Dense(256,activation='relu',input_dim=2*2*512))\n",
        "model.add(Dropout(0.5))\n",
        "model.add(Dense(1,activation='sigmoid'))\n",
        "model.compile(optimizer=optimizers.RMSprop(lr=2e-5),loss='binary_crossentropy',metrics=['acc'])\n",
        "history=model.fit(train_features,train_labels,epochs=40,batch_size=20,validation_data=(validation_features,validation_labels))"
      ],
      "execution_count": 0,
      "outputs": [
        {
          "output_type": "stream",
          "text": [
            "Train on 20000 samples, validate on 5000 samples\n",
            "Epoch 1/40\n",
            "20000/20000 [==============================] - 4s 188us/step - loss: 0.5896 - acc: 0.6750 - val_loss: 0.4754 - val_acc: 0.7716\n",
            "Epoch 2/40\n",
            "20000/20000 [==============================] - 3s 168us/step - loss: 0.4794 - acc: 0.7702 - val_loss: 0.4436 - val_acc: 0.7860\n",
            "Epoch 3/40\n",
            "20000/20000 [==============================] - 3s 165us/step - loss: 0.4505 - acc: 0.7895 - val_loss: 0.4314 - val_acc: 0.7956\n",
            "Epoch 4/40\n",
            "20000/20000 [==============================] - 3s 166us/step - loss: 0.4365 - acc: 0.7960 - val_loss: 0.4257 - val_acc: 0.7994\n",
            "Epoch 5/40\n",
            "20000/20000 [==============================] - 3s 165us/step - loss: 0.4287 - acc: 0.8010 - val_loss: 0.4187 - val_acc: 0.8038\n",
            "Epoch 6/40\n",
            "20000/20000 [==============================] - 3s 165us/step - loss: 0.4183 - acc: 0.8038 - val_loss: 0.4135 - val_acc: 0.8098\n",
            "Epoch 7/40\n",
            "20000/20000 [==============================] - 3s 165us/step - loss: 0.4114 - acc: 0.8090 - val_loss: 0.4132 - val_acc: 0.8054\n",
            "Epoch 8/40\n",
            "20000/20000 [==============================] - 3s 167us/step - loss: 0.4038 - acc: 0.8173 - val_loss: 0.4090 - val_acc: 0.8140\n",
            "Epoch 9/40\n",
            "20000/20000 [==============================] - 3s 166us/step - loss: 0.4027 - acc: 0.8154 - val_loss: 0.4074 - val_acc: 0.8108\n",
            "Epoch 10/40\n",
            "20000/20000 [==============================] - 3s 167us/step - loss: 0.3983 - acc: 0.8186 - val_loss: 0.4050 - val_acc: 0.8152\n",
            "Epoch 11/40\n",
            "20000/20000 [==============================] - 3s 166us/step - loss: 0.3954 - acc: 0.8225 - val_loss: 0.4054 - val_acc: 0.8124\n",
            "Epoch 12/40\n",
            "20000/20000 [==============================] - 3s 166us/step - loss: 0.3886 - acc: 0.8240 - val_loss: 0.4026 - val_acc: 0.8168\n",
            "Epoch 13/40\n",
            "20000/20000 [==============================] - 3s 168us/step - loss: 0.3892 - acc: 0.8265 - val_loss: 0.4029 - val_acc: 0.8148\n",
            "Epoch 14/40\n",
            "20000/20000 [==============================] - 3s 169us/step - loss: 0.3840 - acc: 0.8256 - val_loss: 0.4008 - val_acc: 0.8186\n",
            "Epoch 15/40\n",
            "20000/20000 [==============================] - 3s 168us/step - loss: 0.3817 - acc: 0.8266 - val_loss: 0.4000 - val_acc: 0.8174\n",
            "Epoch 16/40\n",
            "20000/20000 [==============================] - 3s 165us/step - loss: 0.3804 - acc: 0.8306 - val_loss: 0.3985 - val_acc: 0.8162\n",
            "Epoch 17/40\n",
            "20000/20000 [==============================] - 3s 165us/step - loss: 0.3752 - acc: 0.8316 - val_loss: 0.4010 - val_acc: 0.8232\n",
            "Epoch 18/40\n",
            "20000/20000 [==============================] - 3s 167us/step - loss: 0.3730 - acc: 0.8341 - val_loss: 0.3979 - val_acc: 0.8212\n",
            "Epoch 19/40\n",
            "20000/20000 [==============================] - 3s 168us/step - loss: 0.3714 - acc: 0.8347 - val_loss: 0.3973 - val_acc: 0.8210\n",
            "Epoch 20/40\n",
            "20000/20000 [==============================] - 3s 168us/step - loss: 0.3692 - acc: 0.8378 - val_loss: 0.3975 - val_acc: 0.8230\n",
            "Epoch 21/40\n",
            "20000/20000 [==============================] - 3s 167us/step - loss: 0.3663 - acc: 0.8371 - val_loss: 0.3982 - val_acc: 0.8192\n",
            "Epoch 22/40\n",
            "20000/20000 [==============================] - 3s 166us/step - loss: 0.3643 - acc: 0.8380 - val_loss: 0.3978 - val_acc: 0.8242\n",
            "Epoch 23/40\n",
            "20000/20000 [==============================] - 3s 164us/step - loss: 0.3638 - acc: 0.8379 - val_loss: 0.3970 - val_acc: 0.8208\n",
            "Epoch 24/40\n",
            "20000/20000 [==============================] - 3s 166us/step - loss: 0.3631 - acc: 0.8411 - val_loss: 0.3961 - val_acc: 0.8240\n",
            "Epoch 25/40\n",
            "20000/20000 [==============================] - 3s 166us/step - loss: 0.3595 - acc: 0.8413 - val_loss: 0.3977 - val_acc: 0.8208\n",
            "Epoch 26/40\n",
            "20000/20000 [==============================] - 3s 166us/step - loss: 0.3582 - acc: 0.8446 - val_loss: 0.3982 - val_acc: 0.8210\n",
            "Epoch 27/40\n",
            "20000/20000 [==============================] - 3s 167us/step - loss: 0.3566 - acc: 0.8436 - val_loss: 0.3965 - val_acc: 0.8206\n",
            "Epoch 28/40\n",
            "20000/20000 [==============================] - 3s 166us/step - loss: 0.3556 - acc: 0.8441 - val_loss: 0.3958 - val_acc: 0.8236\n",
            "Epoch 29/40\n",
            "20000/20000 [==============================] - 3s 168us/step - loss: 0.3513 - acc: 0.8461 - val_loss: 0.3960 - val_acc: 0.8244\n",
            "Epoch 30/40\n",
            "20000/20000 [==============================] - 4s 176us/step - loss: 0.3508 - acc: 0.8496 - val_loss: 0.3970 - val_acc: 0.8228\n",
            "Epoch 31/40\n",
            "20000/20000 [==============================] - 3s 175us/step - loss: 0.3507 - acc: 0.8498 - val_loss: 0.3957 - val_acc: 0.8252\n",
            "Epoch 32/40\n",
            "20000/20000 [==============================] - 3s 174us/step - loss: 0.3472 - acc: 0.8487 - val_loss: 0.3963 - val_acc: 0.8238\n",
            "Epoch 33/40\n",
            "20000/20000 [==============================] - 3s 169us/step - loss: 0.3489 - acc: 0.8481 - val_loss: 0.3966 - val_acc: 0.8250\n",
            "Epoch 34/40\n",
            "20000/20000 [==============================] - 3s 167us/step - loss: 0.3451 - acc: 0.8506 - val_loss: 0.3978 - val_acc: 0.8228\n",
            "Epoch 35/40\n",
            "20000/20000 [==============================] - 3s 168us/step - loss: 0.3448 - acc: 0.8528 - val_loss: 0.3967 - val_acc: 0.8248\n",
            "Epoch 36/40\n",
            "20000/20000 [==============================] - 3s 166us/step - loss: 0.3432 - acc: 0.8529 - val_loss: 0.3974 - val_acc: 0.8240\n",
            "Epoch 37/40\n",
            "20000/20000 [==============================] - 3s 169us/step - loss: 0.3415 - acc: 0.8529 - val_loss: 0.3970 - val_acc: 0.8246\n",
            "Epoch 38/40\n",
            "20000/20000 [==============================] - 3s 171us/step - loss: 0.3400 - acc: 0.8546 - val_loss: 0.3987 - val_acc: 0.8240\n",
            "Epoch 39/40\n",
            "20000/20000 [==============================] - 3s 170us/step - loss: 0.3384 - acc: 0.8553 - val_loss: 0.3979 - val_acc: 0.8242\n",
            "Epoch 40/40\n",
            "20000/20000 [==============================] - 3s 168us/step - loss: 0.3378 - acc: 0.8573 - val_loss: 0.4000 - val_acc: 0.8238\n"
          ],
          "name": "stdout"
        }
      ]
    },
    {
      "cell_type": "code",
      "metadata": {
        "id": "YMQakkz7k-KY",
        "colab_type": "code",
        "colab": {}
      },
      "source": [
        "test_features, test_labels = extract_features(X_test, 12500)"
      ],
      "execution_count": 0,
      "outputs": []
    },
    {
      "cell_type": "code",
      "metadata": {
        "id": "UyWq-O00KXKn",
        "colab_type": "code",
        "colab": {}
      },
      "source": [
        "import matplotlib.pyplot as plt\n",
        "acc=history.history['acc']\n",
        "val_acc=history.history['val_acc']\n",
        "loss=history.history['loss']\n",
        "val_loss=history.history['val_loss']\n"
      ],
      "execution_count": 0,
      "outputs": []
    },
    {
      "cell_type": "code",
      "metadata": {
        "id": "rvCDqSUf72CY",
        "colab_type": "code",
        "outputId": "a47cc4bb-7fe7-471b-b13d-ffe75a3a8caf",
        "colab": {
          "base_uri": "https://localhost:8080/",
          "height": 545
        }
      },
      "source": [
        "epochs=range(len(acc))\n",
        "plt.plot(epochs,acc,'bo',label='Training acc')\n",
        "plt.plot(epochs,val_acc,'b',label='Validation_acc')\n",
        "plt.title('Training and Val accuracy')\n",
        "plt.legend()\n",
        "\n",
        "plt.figure()\n",
        "\n",
        "plt.plot(epochs, loss, 'bo', label='Training loss')\n",
        "plt.plot(epochs, val_loss, 'b', label='Validation loss')\n",
        "plt.title('Training and validation loss')\n",
        "plt.legend()\n",
        "\n",
        "plt.show()\n",
        "\n"
      ],
      "execution_count": 0,
      "outputs": [
        {
          "output_type": "display_data",
          "data": {
            "image/png": "[encoded data removed]",
            "text/plain": [
              "<Figure size 432x288 with 1 Axes>"
            ]
          },
          "metadata": {
            "tags": []
          }
        },
        {
          "output_type": "display_data",
          "data": {
            "image/png": "[encoded data removed]",
            "text/plain": [
              "<Figure size 432x288 with 1 Axes>"
            ]
          },
          "metadata": {
            "tags": []
          }
        }
      ]
    },
    {
      "cell_type": "code",
      "metadata": {
        "id": "EGfGV1ML9IOz",
        "colab_type": "code",
        "colab": {}
      },
      "source": [
        "model=Sequential()\n",
        "model.add(conv_base)\n",
        "model.add(Flatten())\n",
        "model.add(Dense(256,activation='relu'))\n",
        "model.add(Dense(1,activation='sigmoid'))"
      ],
      "execution_count": 0,
      "outputs": []
    },
    {
      "cell_type": "code",
      "metadata": {
        "id": "QfpKp296_9sd",
        "colab_type": "code",
        "outputId": "f9166584-2d0a-42b0-886d-4739e5e5ad44",
        "colab": {
          "base_uri": "https://localhost:8080/",
          "height": 272
        }
      },
      "source": [
        "model.summary()"
      ],
      "execution_count": 0,
      "outputs": [
        {
          "output_type": "stream",
          "text": [
            "_________________________________________________________________\n",
            "Layer (type)                 Output Shape              Param #   \n",
            "=================================================================\n",
            "vgg16 (Model)                (None, 2, 2, 512)         14714688  \n",
            "_________________________________________________________________\n",
            "flatten_1 (Flatten)          (None, 2048)              0         \n",
            "_________________________________________________________________\n",
            "dense_1 (Dense)              (None, 256)               524544    \n",
            "_________________________________________________________________\n",
            "dense_2 (Dense)              (None, 1)                 257       \n",
            "=================================================================\n",
            "Total params: 15,239,489\n",
            "Trainable params: 15,239,489\n",
            "Non-trainable params: 0\n",
            "_________________________________________________________________\n"
          ],
          "name": "stdout"
        }
      ]
    },
    {
      "cell_type": "code",
      "metadata": {
        "id": "U2DQOZGcAEOd",
        "colab_type": "code",
        "colab": {}
      },
      "source": [
        "conv_base.trainable=False"
      ],
      "execution_count": 0,
      "outputs": []
    },
    {
      "cell_type": "code",
      "metadata": {
        "id": "P1ehzbmJAs64",
        "colab_type": "code",
        "outputId": "926d414c-bb8e-40f6-db5b-0f31b578cd2f",
        "colab": {
          "base_uri": "https://localhost:8080/",
          "height": 85
        }
      },
      "source": [
        "model.trainable_weights"
      ],
      "execution_count": 0,
      "outputs": [
        {
          "output_type": "execute_result",
          "data": {
            "text/plain": [
              "[<tf.Variable 'dense_1/kernel:0' shape=(2048, 256) dtype=float32_ref>,\n",
              " <tf.Variable 'dense_1/bias:0' shape=(256,) dtype=float32_ref>,\n",
              " <tf.Variable 'dense_2/kernel:0' shape=(256, 1) dtype=float32_ref>,\n",
              " <tf.Variable 'dense_2/bias:0' shape=(1,) dtype=float32_ref>]"
            ]
          },
          "metadata": {
            "tags": []
          },
          "execution_count": 25
        }
      ]
    },
    {
      "cell_type": "code",
      "metadata": {
        "id": "svtprfGuaPWQ",
        "colab_type": "code",
        "outputId": "7e53bee3-ed6f-4a78-c16a-d4e01fa66f68",
        "colab": {
          "base_uri": "https://localhost:8080/",
          "height": 34
        }
      },
      "source": [
        "X_train.shape"
      ],
      "execution_count": 0,
      "outputs": [
        {
          "output_type": "execute_result",
          "data": {
            "text/plain": [
              "(20000, 80, 80, 3)"
            ]
          },
          "metadata": {
            "tags": []
          },
          "execution_count": 26
        }
      ]
    },
    {
      "cell_type": "code",
      "metadata": {
        "id": "1CE4ZVkDA5wj",
        "colab_type": "code",
        "colab": {}
      },
      "source": [
        "from keras.preprocessing.image import ImageDataGenerator\n",
        "train_datagen=ImageDataGenerator(rescale=1./255,rotation_range=40,width_shift_range=0.2,height_shift_range=0.2,shear_range=0.2,zoom_range=0.2,horizontal_flip=True,fill_mode='nearest')\n",
        "validation_datagen=ImageDataGenerator(rescale=1./255,rotation_range=40,width_shift_range=0.2,height_shift_range=0.2,shear_range=0.2,zoom_range=0.2,horizontal_flip=True,fill_mode='nearest')\n",
        "\n",
        "\n",
        "train_generator = train_datagen.flow(np.array(X_train), Y_train,batch_size=20)\n",
        "validation_generator = validation_datagen.flow(np.array(X_val), Y_val, batch_size=20)"
      ],
      "execution_count": 0,
      "outputs": []
    },
    {
      "cell_type": "code",
      "metadata": {
        "id": "ByM2Z48HGjUb",
        "colab_type": "code",
        "colab": {}
      },
      "source": [
        "model.compile(loss='binary_crossentropy',\n",
        "              optimizer=optimizers.RMSprop(lr=2e-5),\n",
        "              metrics=['acc'])"
      ],
      "execution_count": 0,
      "outputs": []
    },
    {
      "cell_type": "code",
      "metadata": {
        "id": "rG15-zwlbH0h",
        "colab_type": "code",
        "colab": {}
      },
      "source": [
        "tlen=len(train_generator)\n",
        "vlength=len(X_val)"
      ],
      "execution_count": 0,
      "outputs": []
    },
    {
      "cell_type": "code",
      "metadata": {
        "id": "cTk8XaOrxtxT",
        "colab_type": "code",
        "outputId": "7832305c-844b-43b3-f576-5864380f87a2",
        "colab": {
          "base_uri": "https://localhost:8080/",
          "height": 34
        }
      },
      "source": [
        "vlength\n",
        "tlen"
      ],
      "execution_count": 0,
      "outputs": [
        {
          "output_type": "execute_result",
          "data": {
            "text/plain": [
              "1000"
            ]
          },
          "metadata": {
            "tags": []
          },
          "execution_count": 32
        }
      ]
    },
    {
      "cell_type": "code",
      "metadata": {
        "id": "QSSb2AXKHdHB",
        "colab_type": "code",
        "outputId": "2c58f7c3-f475-499e-d285-2b9084ef715b",
        "colab": {
          "base_uri": "https://localhost:8080/",
          "height": 768
        }
      },
      "source": [
        "history = model.fit_generator(\n",
        "      train_generator,\n",
        "      steps_per_epoch=tlen,\n",
        "      epochs=20,\n",
        "      validation_data=validation_generator,\n",
        "      validation_steps=vlength)"
      ],
      "execution_count": 0,
      "outputs": [
        {
          "output_type": "stream",
          "text": [
            "WARNING:tensorflow:From /usr/local/lib/python3.6/dist-packages/tensorflow/python/ops/math_ops.py:3066: to_int32 (from tensorflow.python.ops.math_ops) is deprecated and will be removed in a future version.\n",
            "Instructions for updating:\n",
            "Use tf.cast instead.\n",
            "Epoch 1/20\n",
            "1000/1000 [==============================] - 195s 195ms/step - loss: 0.5543 - acc: 0.7147 - val_loss: 0.5056 - val_acc: 0.7514\n",
            "Epoch 2/20\n",
            "1000/1000 [==============================] - 191s 191ms/step - loss: 0.4832 - acc: 0.7675 - val_loss: 0.4739 - val_acc: 0.7714\n",
            "Epoch 3/20\n",
            "1000/1000 [==============================] - 191s 191ms/step - loss: 0.4613 - acc: 0.7770 - val_loss: 0.4591 - val_acc: 0.7816\n",
            "Epoch 4/20\n",
            "1000/1000 [==============================] - 191s 191ms/step - loss: 0.4516 - acc: 0.7892 - val_loss: 0.4528 - val_acc: 0.7839\n",
            "Epoch 5/20\n",
            "1000/1000 [==============================] - 192s 192ms/step - loss: 0.4431 - acc: 0.7906 - val_loss: 0.4474 - val_acc: 0.7875\n",
            "Epoch 6/20\n",
            "1000/1000 [==============================] - 191s 191ms/step - loss: 0.4424 - acc: 0.7894 - val_loss: 0.4392 - val_acc: 0.7932\n",
            "Epoch 7/20\n",
            "1000/1000 [==============================] - 191s 191ms/step - loss: 0.4357 - acc: 0.7940 - val_loss: 0.4380 - val_acc: 0.7952\n",
            "Epoch 8/20\n",
            "1000/1000 [==============================] - 192s 192ms/step - loss: 0.4329 - acc: 0.7960 - val_loss: 0.4369 - val_acc: 0.7971\n",
            "Epoch 9/20\n",
            "1000/1000 [==============================] - 191s 191ms/step - loss: 0.4294 - acc: 0.8002 - val_loss: 0.4335 - val_acc: 0.7965\n",
            "Epoch 10/20\n",
            "1000/1000 [==============================] - 192s 192ms/step - loss: 0.4298 - acc: 0.7959 - val_loss: 0.4320 - val_acc: 0.8005\n",
            "Epoch 11/20\n",
            "1000/1000 [==============================] - 191s 191ms/step - loss: 0.4265 - acc: 0.7960 - val_loss: 0.4290 - val_acc: 0.8004\n",
            "Epoch 12/20\n",
            "1000/1000 [==============================] - 191s 191ms/step - loss: 0.4249 - acc: 0.8007 - val_loss: 0.4269 - val_acc: 0.8011\n",
            "Epoch 13/20\n",
            "1000/1000 [==============================] - 191s 191ms/step - loss: 0.4249 - acc: 0.8015 - val_loss: 0.4280 - val_acc: 0.7995\n",
            "Epoch 14/20\n",
            "1000/1000 [==============================] - 191s 191ms/step - loss: 0.4211 - acc: 0.8024 - val_loss: 0.4333 - val_acc: 0.7947\n",
            "Epoch 15/20\n",
            "1000/1000 [==============================] - 192s 192ms/step - loss: 0.4163 - acc: 0.8054 - val_loss: 0.4276 - val_acc: 0.8019\n",
            "Epoch 16/20\n",
            "1000/1000 [==============================] - 192s 192ms/step - loss: 0.4132 - acc: 0.8053 - val_loss: 0.4222 - val_acc: 0.8042\n",
            "Epoch 17/20\n",
            "1000/1000 [==============================] - 191s 191ms/step - loss: 0.4178 - acc: 0.8069 - val_loss: 0.4222 - val_acc: 0.8040\n",
            "Epoch 18/20\n",
            "1000/1000 [==============================] - 192s 192ms/step - loss: 0.4194 - acc: 0.8063 - val_loss: 0.4207 - val_acc: 0.8052\n",
            "Epoch 19/20\n",
            "1000/1000 [==============================] - 192s 192ms/step - loss: 0.4108 - acc: 0.8119 - val_loss: 0.4197 - val_acc: 0.8055\n",
            "Epoch 20/20\n",
            "1000/1000 [==============================] - 191s 191ms/step - loss: 0.4145 - acc: 0.8056 - val_loss: 0.4239 - val_acc: 0.8045\n"
          ],
          "name": "stdout"
        }
      ]
    },
    {
      "cell_type": "code",
      "metadata": {
        "id": "Wx3U3aMpCNEz",
        "colab_type": "code",
        "colab": {}
      },
      "source": [
        "import pandas as pd"
      ],
      "execution_count": 0,
      "outputs": []
    },
    {
      "cell_type": "code",
      "metadata": {
        "id": "DXws62FfHiVx",
        "colab_type": "code",
        "colab": {}
      },
      "source": [
        "testpath=\"../content/test\"\n",
        "X_test=[]\n",
        "id_line=[]\n",
        "def create_test_data(path):\n",
        "  for p in os.listdir(path):\n",
        "    id_line.append(p.split(\".\")[0])\n",
        "    img_array=cv2.imread(os.path.join(path,p))\n",
        "    new_img_array=cv2.resize(img_array,dsize=(80,80))\n",
        "    X_test.append(new_img_array)\n",
        "create_test_data(testpath)\n",
        "X_test=np.array(X_test).reshape(-1,80,80,3)\n",
        "test_datagen = ImageDataGenerator(rescale=1. / 255)\n",
        "test_generator = validation_datagen.flow(np.array(X_test), batch_size=1)\n",
        "predictions = model.predict(X_test)\n",
        "predicted_val = [int(round(p[0])) for p in predictions]\n",
        "submission_df = {'id':id_line, 'label':predicted_val}\n",
        "answer=pd.DataFrame(submission_df)\n",
        "answer.to_csv(\"submissiondog.csv\", index=False)"
      ],
      "execution_count": 0,
      "outputs": []
    },
    {
      "cell_type": "code",
      "metadata": {
        "id": "VbV6KQvzBhE5",
        "colab_type": "code",
        "outputId": "3376ac58-5fde-4549-fc45-b9137162c939",
        "colab": {
          "base_uri": "https://localhost:8080/",
          "height": 34
        }
      },
      "source": [
        "X_test.shape"
      ],
      "execution_count": 0,
      "outputs": [
        {
          "output_type": "execute_result",
          "data": {
            "text/plain": [
              "(12500, 80, 80, 3)"
            ]
          },
          "metadata": {
            "tags": []
          },
          "execution_count": 37
        }
      ]
    },
    {
      "cell_type": "code",
      "metadata": {
        "id": "auM7rMCyBz-3",
        "colab_type": "code",
        "colab": {}
      },
      "source": [
        ""
      ],
      "execution_count": 0,
      "outputs": []
    }
  ]
}