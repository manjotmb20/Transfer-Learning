{
  "nbformat": 4,
  "nbformat_minor": 0,
  "metadata": {
    "colab": {
      "name": "Untitled57.ipynb",
      "version": "0.3.2",
      "provenance": [],
      "include_colab_link": true
    },
    "kernelspec": {
      "name": "python3",
      "display_name": "Python 3"
    },
    "accelerator": "GPU"
  },
  "cells": [
    {
      "cell_type": "markdown",
      "metadata": {
        "id": "view-in-github",
        "colab_type": "text"
      },
      "source": [
        "<a href=\"https://colab.research.google.com/github/manjotmb20/Transfer-Learning/blob/master/annotations.ipynb\" target=\"_parent\"><img src=\"https://colab.research.google.com/assets/colab-badge.svg\" alt=\"Open In Colab\"/></a>"
      ]
    },
    {
      "cell_type": "code",
      "metadata": {
        "id": "Gw7xx4d6NMLT",
        "colab_type": "code",
        "colab": {}
      },
      "source": [
        ""
      ],
      "execution_count": 0,
      "outputs": []
    },
    {
      "cell_type": "code",
      "metadata": {
        "id": "wxJJ80CqNqy-",
        "colab_type": "code",
        "colab": {}
      },
      "source": [
        "import os\n",
        "import cv2\n",
        "from lxml import etree\n",
        "import xml.etree.cElementTree as ET\n",
        "\n",
        "\n",
        "def write_xml(folder, img, objects, tl, br, savedir):\n",
        "    if not os.path.isdir(savedir):\n",
        "        os.mkdir(savedir)\n",
        "\n",
        "    image = cv2.imread(img.path)\n",
        "    height, width, depth = image.shape\n",
        "\n",
        "    annotation = ET.Element('annotation')\n",
        "    ET.SubElement(annotation, 'folder').text = folder\n",
        "    ET.SubElement(annotation, 'filename').text = img.name\n",
        "    ET.SubElement(annotation, 'segmented').text = '0'\n",
        "    size = ET.SubElement(annotation, 'size')\n",
        "    ET.SubElement(size, 'width').text = str(width)\n",
        "    ET.SubElement(size, 'height').text = str(height)\n",
        "    ET.SubElement(size, 'depth').text = str(depth)\n",
        "    for obj, topl, botr in zip(objects, tl, br):\n",
        "        ob = ET.SubElement(annotation, 'object')\n",
        "        ET.SubElement(ob, 'name').text = obj\n",
        "        ET.SubElement(ob, 'pose').text = 'Unspecified'\n",
        "        ET.SubElement(ob, 'truncated').text = '0'\n",
        "        ET.SubElement(ob, 'difficult').text = '0'\n",
        "        bbox = ET.SubElement(ob, 'bndbox')\n",
        "        ET.SubElement(bbox, 'xmin').text = str(topl[0])\n",
        "        ET.SubElement(bbox, 'ymin').text = str(topl[1])\n",
        "        ET.SubElement(bbox, 'xmax').text = str(botr[0])\n",
        "        ET.SubElement(bbox, 'ymax').text = str(botr[1])\n",
        "\n",
        "    xml_str = ET.tostring(annotation)\n",
        "    root = etree.fromstring(xml_str)\n",
        "    xml_str = etree.tostring(root, pretty_print=True)\n",
        "    save_path = os.path.join(savedir, img.name.replace('png', 'xml'))\n",
        "    with open(save_path, 'wb') as temp_xml:\n",
        "        temp_xml.write(xml_str)\n",
        "\n",
        "\n",
        "if __name__ == '__main__':\n",
        "    \"\"\"\n",
        "    for testing\n",
        "    \"\"\"\n",
        "\n",
        "    folder = 'images'\n",
        "    img = [im for im in os.scandir('images') if '000001' in im.name][0]\n",
        "    objects = ['fidget_spinner']\n",
        "    tl = [(10, 10)]\n",
        "    br = [(100, 100)]\n",
        "    savedir = 'annotations'\n",
        "    write_xml(folder, img, objects, tl, br, savedir)"
      ],
      "execution_count": 0,
      "outputs": []
    }
  ]
}