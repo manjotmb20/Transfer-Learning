{
  "nbformat": 4,
  "nbformat_minor": 0,
  "metadata": {
    "colab": {
      "name": "Untitled55.ipynb",
      "version": "0.3.2",
      "provenance": [],
      "include_colab_link": true
    },
    "kernelspec": {
      "name": "python3",
      "display_name": "Python 3"
    },
    "accelerator": "GPU"
  },
  "cells": [
    {
      "cell_type": "markdown",
      "metadata": {
        "id": "view-in-github",
        "colab_type": "text"
      },
      "source": [
        "<a href=\"https://colab.research.google.com/github/manjotmb20/Transfer-Learning/blob/master/dwdimagesfromgoogle.ipynb\" target=\"_parent\"><img src=\"https://colab.research.google.com/assets/colab-badge.svg\" alt=\"Open In Colab\"/></a>"
      ]
    },
    {
      "cell_type": "code",
      "metadata": {
        "id": "u0q9T3GwCPIs",
        "colab_type": "code",
        "colab": {}
      },
      "source": [
        "import os\n",
        "import zipfile\n",
        "path='../content'\n",
        "\n"
      ],
      "execution_count": 0,
      "outputs": []
    },
    {
      "cell_type": "code",
      "metadata": {
        "id": "yHng_lcOC-iq",
        "colab_type": "code",
        "colab": {}
      },
      "source": [
        "zip_ref=zipfile.ZipFile('darkflow-master.zip','r')\n",
        "zip_ref.extractall()"
      ],
      "execution_count": 0,
      "outputs": []
    },
    {
      "cell_type": "code",
      "metadata": {
        "id": "js-3MH6ADC_G",
        "colab_type": "code",
        "colab": {}
      },
      "source": [
        "zip_ref.close()"
      ],
      "execution_count": 0,
      "outputs": []
    },
    {
      "cell_type": "code",
      "metadata": {
        "id": "ehjknFJyZe2h",
        "colab_type": "code",
        "colab": {}
      },
      "source": [
        "import requests"
      ],
      "execution_count": 0,
      "outputs": []
    },
    {
      "cell_type": "code",
      "metadata": {
        "id": "w3V4vt-XQJ1_",
        "colab_type": "code",
        "colab": {
          "base_uri": "https://localhost:8080/",
          "height": 85
        },
        "outputId": "d9dd8770-a1a0-42d1-9e28-569159147812"
      },
      "source": [
        "pip install -e ."
      ],
      "execution_count": 21,
      "outputs": [
        {
          "output_type": "stream",
          "text": [
            "Obtaining file:///content\n",
            "Installing collected packages: darkflow\n",
            "  Running setup.py develop for darkflow\n",
            "Successfully installed darkflow\n"
          ],
          "name": "stdout"
        }
      ]
    },
    {
      "cell_type": "code",
      "metadata": {
        "id": "Y1z6XxFpQMEX",
        "colab_type": "code",
        "colab": {}
      },
      "source": [
        "import urllib.request as ulib\n",
        "from bs4 import BeautifulSoup as Soup\n",
        "import json"
      ],
      "execution_count": 0,
      "outputs": []
    },
    {
      "cell_type": "code",
      "metadata": {
        "id": "MhOJqJ91QkhH",
        "colab_type": "code",
        "colab": {}
      },
      "source": [
        "url_a = 'https://www.google.com/search?q={}'\n",
        "url_b = '&rlz=1C1GCEB_enIN806IN806&source=lnms&tbm=isch&sa=X&ved=0ahUKEwi36OLt7vTiAhVFwI8KHciEDSoQ_AUIECgB&biw=1440&bih=708'\n",
        "url_base = ''.join((url_a, url_b))"
      ],
      "execution_count": 0,
      "outputs": []
    },
    {
      "cell_type": "code",
      "metadata": {
        "id": "rNU5uLpUQogm",
        "colab_type": "code",
        "colab": {}
      },
      "source": [
        "headers = {'User-Agent': 'Chrome/41.0.2228.0 Safari/537.36'}"
      ],
      "execution_count": 0,
      "outputs": []
    },
    {
      "cell_type": "code",
      "metadata": {
        "id": "xQ2ESxM9Qrbm",
        "colab_type": "code",
        "colab": {}
      },
      "source": [
        "def get_links(search_name):\n",
        "  search_name=search_name.replace(' ','+')\n",
        "  url=url_base.format(search_name)\n",
        "  request=ulib.Request(url,None,headers)\n",
        "  json_string=ulib.urlopen(request)\n",
        "  soup=Soup(json_string,\"html.parser\")\n",
        "  images=soup.find_all('img')\n",
        "  links=[image['src'] for image in images]\n",
        "  return links\n"
      ],
      "execution_count": 0,
      "outputs": []
    },
    {
      "cell_type": "code",
      "metadata": {
        "id": "7KmjwORckBe_",
        "colab_type": "code",
        "colab": {}
      },
      "source": [
        "def save_images(links,search_name):\n",
        "  directory=search_name.replace(' ','_')\n",
        "  if not os.path.isdir(directory):\n",
        "    os.mkdir(directory)\n",
        "  for i,link in enumerate(links):\n",
        "    savepath=os.path.join(directory,'{:06}.png'.format(i))\n",
        "    ulib.urlretrieve(link,savepath)"
      ],
      "execution_count": 0,
      "outputs": []
    },
    {
      "cell_type": "code",
      "metadata": {
        "id": "T1H7LwjhToOT",
        "colab_type": "code",
        "colab": {}
      },
      "source": [
        "if __name__=='__main__':\n",
        "  search_name='fidget spinner'\n",
        "  links=get_links(search_name)\n",
        "  save_images(links,search_name)\n",
        "  search_name='fidget'\n",
        "  links=get_links(search_name)\n",
        "  save_images(links,search_name)\n",
        "  search_name='fidgets toy spinner'\n",
        "  links=get_links(search_name)\n",
        "  save_images(links,search_name)\n",
        "  search_name='fidget kids spinner'\n",
        "  links=get_links(search_name)\n",
        "  save_images(links,search_name)"
      ],
      "execution_count": 0,
      "outputs": []
    },
    {
      "cell_type": "code",
      "metadata": {
        "id": "k6EAdZ4Wok7_",
        "colab_type": "code",
        "colab": {
          "base_uri": "https://localhost:8080/",
          "height": 357
        },
        "outputId": "39d73de3-20fe-464e-9e1c-53d49efc465e"
      },
      "source": [
        "os.listdir('fidget_kids_spinner')"
      ],
      "execution_count": 113,
      "outputs": [
        {
          "output_type": "execute_result",
          "data": {
            "text/plain": [
              "['000009.png',\n",
              " '000004.png',\n",
              " '000011.png',\n",
              " '000016.png',\n",
              " '000012.png',\n",
              " '000017.png',\n",
              " '000001.png',\n",
              " '000019.png',\n",
              " '000008.png',\n",
              " '000015.png',\n",
              " '000002.png',\n",
              " '000006.png',\n",
              " '000010.png',\n",
              " '000005.png',\n",
              " '000014.png',\n",
              " '000018.png',\n",
              " '000000.png',\n",
              " '000013.png',\n",
              " '000007.png',\n",
              " '000003.png']"
            ]
          },
          "metadata": {
            "tags": []
          },
          "execution_count": 113
        }
      ]
    },
    {
      "cell_type": "code",
      "metadata": {
        "id": "RMLRA3OMXRcl",
        "colab_type": "code",
        "colab": {}
      },
      "source": [
        "imdir='images'\n",
        "if not os.path.isdir(imdir):\n",
        "  os.mkdir(imdir)\n",
        "\n",
        "fidget_folders=[folder for folder in os.listdir('.') if 'fidget' in folder]  \n"
      ],
      "execution_count": 0,
      "outputs": []
    },
    {
      "cell_type": "code",
      "metadata": {
        "id": "zWR_wK9_XdQ3",
        "colab_type": "code",
        "colab": {}
      },
      "source": [
        "n=0\n",
        "for folder in fidget_folders:\n",
        "  for imfile in os.scandir(folder):\n",
        "    os.rename(imfile.path,os.path.join(imdir,'{:06}.png'.format(n)))\n",
        "    n+=1"
      ],
      "execution_count": 0,
      "outputs": []
    },
    {
      "cell_type": "code",
      "metadata": {
        "id": "aTqBeQkaX3O_",
        "colab_type": "code",
        "colab": {
          "base_uri": "https://localhost:8080/",
          "height": 34
        },
        "outputId": "682520af-bbf2-45ba-cbb1-e9309e321bb5"
      },
      "source": [
        "fidget_folders"
      ],
      "execution_count": 96,
      "outputs": [
        {
          "output_type": "execute_result",
          "data": {
            "text/plain": [
              "['fidget_kids_spinner', 'fidgets_toy_spinner', 'fidget', 'fidget_spinner']"
            ]
          },
          "metadata": {
            "tags": []
          },
          "execution_count": 96
        }
      ]
    },
    {
      "cell_type": "code",
      "metadata": {
        "id": "v7OAVVeQgbJ1",
        "colab_type": "code",
        "colab": {}
      },
      "source": [
        ""
      ],
      "execution_count": 0,
      "outputs": []
    },
    {
      "cell_type": "code",
      "metadata": {
        "id": "UG5VW4qQi1Vx",
        "colab_type": "code",
        "colab": {}
      },
      "source": [
        ""
      ],
      "execution_count": 0,
      "outputs": []
    },
    {
      "cell_type": "code",
      "metadata": {
        "id": "a2gZ8Hz3hN5X",
        "colab_type": "code",
        "colab": {}
      },
      "source": [
        ""
      ],
      "execution_count": 0,
      "outputs": []
    }
  ]
}